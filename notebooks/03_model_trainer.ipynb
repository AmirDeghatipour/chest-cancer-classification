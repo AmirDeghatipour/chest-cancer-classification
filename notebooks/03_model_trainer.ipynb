{
 "cells": [
  {
   "cell_type": "code",
   "execution_count": 1,
   "metadata": {},
   "outputs": [
    {
     "data": {
      "text/plain": [
       "'d:\\\\python-projects\\\\chest-cancer-classification'"
      ]
     },
     "execution_count": 1,
     "metadata": {},
     "output_type": "execute_result"
    }
   ],
   "source": [
    "import os\n",
    "os.chdir(\"../\")\n",
    "%pwd"
   ]
  },
  {
   "cell_type": "code",
   "execution_count": 2,
   "metadata": {},
   "outputs": [],
   "source": [
    "from dataclasses import dataclass\n",
    "from pathlib import Path\n",
    "\n",
    "@dataclass(frozen=True)\n",
    "class LogConfig:\n",
    "    root_dir: Path\n",
    "    tensorboard: Path\n",
    "    lightning: Path\n",
    "    mlflow: Path\n",
    "\n",
    "\n",
    "@dataclass\n",
    "class TrainingConfig:\n",
    "    root_dir: Path\n",
    "    trained_model_path: Path\n",
    "    updated_base_model_path: Path\n",
    "    training_data: Path\n",
    "    params_epochs: int\n",
    "    params_batch_size: int\n",
    "    params_is_augmentation: bool\n",
    "    params_image_size: list\n",
    "    params_learning_rate: float"
   ]
  },
  {
   "cell_type": "code",
   "execution_count": 3,
   "metadata": {},
   "outputs": [],
   "source": [
    "from src.cnnClassifier.constants import CONFIG_FILE_PATH, PARAMS_FILE_PATH\n",
    "from src.cnnClassifier.utils.common import read_yaml, create_directories"
   ]
  },
  {
   "cell_type": "code",
   "execution_count": 4,
   "metadata": {},
   "outputs": [],
   "source": [
    "class ConfigurationManager:\n",
    "    def __init__(\n",
    "        self, \n",
    "        config_filepath = CONFIG_FILE_PATH,\n",
    "        params_filepath = PARAMS_FILE_PATH):\n",
    "        self.config = read_yaml(config_filepath)\n",
    "        self.params = read_yaml(params_filepath)\n",
    "        create_directories([Path(self.config.artifacts_root)])\n",
    "\n",
    "\n",
    "    \n",
    "    def get_log_config(self) -> LogConfig:\n",
    "        logs = self.config.logs\n",
    "        create_directories([Path(logs.root_dir)])\n",
    "\n",
    "        logs_config = LogConfig(\n",
    "            root_dir=Path(logs.root_dir),\n",
    "            tensorboard=Path(logs.tensorboard),\n",
    "            lightning=Path(logs.lightning),\n",
    "            mlflow = Path(logs.mlflow)\n",
    "        )\n",
    "\n",
    "        return logs_config\n",
    "\n",
    "\n",
    "\n",
    "    def get_training_config(self) -> TrainingConfig:\n",
    "        training = self.config.training\n",
    "        prepare_base_model = self.config.prepare_base_model\n",
    "        params = self.params\n",
    "        training_data = Path(self.config.data_ingestion.unzip_dir) / \"Chest-CT-Scan-data\"\n",
    "        create_directories([Path(training.root_dir)])\n",
    "\n",
    "        training_config = TrainingConfig(\n",
    "            root_dir=Path(training.root_dir),\n",
    "            trained_model_path=Path(training.trained_model_path),\n",
    "            updated_base_model_path=Path(prepare_base_model.updated_base_model_path),\n",
    "            training_data=Path(training_data),\n",
    "            params_epochs=params.EPOCHS,\n",
    "            params_batch_size=params.BATCH_SIZE,\n",
    "            params_is_augmentation=params.AUGMENTATION,\n",
    "            params_image_size=params.IMAGE_SIZE,\n",
    "            params_learning_rate=params.LEARNING_RATE\n",
    "        )\n",
    "\n",
    "        return training_config"
   ]
  },
  {
   "cell_type": "code",
   "execution_count": 5,
   "metadata": {},
   "outputs": [],
   "source": [
    "import torch\n",
    "from torchvision import transforms, datasets\n",
    "from torch.utils.data import DataLoader, random_split\n",
    "from src.cnnClassifier.components.prepare_base_model import MyImageClassifier\n",
    "import pytorch_lightning as pl\n",
    "from pytorch_lightning.loggers import TensorBoardLogger, MLFlowLogger\n",
    "from pytorch_lightning import Trainer"
   ]
  },
  {
   "cell_type": "code",
   "execution_count": 6,
   "metadata": {},
   "outputs": [],
   "source": [
    "class TrainingDataModule(pl.LightningDataModule):\n",
    "    def __init__(self, config: TrainingConfig):\n",
    "        super().__init__()\n",
    "        self.config = config\n",
    "\n",
    "\n",
    "    def setup(self, stage=None):\n",
    "        transform_list = [\n",
    "            transforms.Resize(self.config.params_image_size[:-1]),\n",
    "            transforms.ToTensor()\n",
    "        ]\n",
    "        if self.config.params_is_augmentation:\n",
    "            transform_list = [\n",
    "                transforms.RandomHorizontalFlip(),\n",
    "                transforms.RandomRotation(20),\n",
    "                transforms.ColorJitter(brightness=0.2, contrast=0.2, saturation=0.2),\n",
    "            ] + transform_list\n",
    "\n",
    "        transform = transforms.Compose(transform_list)\n",
    "        dataset = datasets.ImageFolder(self.config.training_data, transform=transform)\n",
    "\n",
    "        val_size = int(0.2 * len(dataset))\n",
    "        train_size = len(dataset) - val_size\n",
    "\n",
    "        generator = torch.Generator().manual_seed(42)\n",
    "        self.train_dataset, self.val_dataset = random_split(dataset, [train_size, val_size], generator=generator)\n",
    "\n",
    "    def train_dataloader(self):\n",
    "        return DataLoader(self.train_dataset, batch_size=self.config.params_batch_size, shuffle=True)\n",
    "\n",
    "    def val_dataloader(self):\n",
    "        return DataLoader(self.val_dataset, batch_size=self.config.params_batch_size)"
   ]
  },
  {
   "cell_type": "code",
   "execution_count": 7,
   "metadata": {},
   "outputs": [],
   "source": [
    "class Training:\n",
    "    def __init__(self, config: TrainingConfig, logs: LogConfig):\n",
    "        self.config = config\n",
    "        self.logs = logs\n",
    "        self.model = None\n",
    "        self.datamodule = None\n",
    "\n",
    "    def get_base_model(self):\n",
    "        base_model = torch.load(self.config.updated_base_model_path, weights_only=False)\n",
    "        self.model = MyImageClassifier(model=base_model, config=self.config)\n",
    "\n",
    "    def get_data_module(self):\n",
    "        self.datamodule = TrainingDataModule(self.config)\n",
    "\n",
    "    def train(self):\n",
    "        self.get_base_model()\n",
    "        self.get_data_module()\n",
    "\n",
    "        tb_logger = TensorBoardLogger(self.logs.tensorboard)\n",
    "        mlflow_logger = MLFlowLogger(\n",
    "            experiment_name=\"ChestCancerClassification\",\n",
    "            tracking_uri= str(self.logs.mlflow)\n",
    "            )\n",
    "        \n",
    "        trainer = Trainer(\n",
    "            max_epochs=self.config.params_epochs,\n",
    "            accelerator=\"auto\",\n",
    "            logger=[tb_logger, mlflow_logger],\n",
    "            enable_progress_bar=True,\n",
    "            log_every_n_steps=1\n",
    "        )\n",
    "\n",
    "        trainer.fit(self.model, datamodule=self.datamodule)\n",
    "\n",
    "        torch.save(self.model.model, self.config.trained_model_path)"
   ]
  },
  {
   "cell_type": "code",
   "execution_count": 8,
   "metadata": {},
   "outputs": [
    {
     "name": "stdout",
     "output_type": "stream",
     "text": [
      "[2025-06-09 11:44:35,536] [13] [common] - INFO - YAML file loaded successfully: config\\config.yaml\n",
      "[2025-06-09 11:44:35,544] [13] [common] - INFO - YAML file loaded successfully: params.yaml\n",
      "[2025-06-09 11:44:35,549] [26] [common] - INFO - Created directory at: artifacts\n",
      "[2025-06-09 11:44:35,552] [26] [common] - INFO - Created directory at: artifacts\\training\n",
      "[2025-06-09 11:44:35,555] [26] [common] - INFO - Created directory at: artifacts\\logs\n",
      "[2025-06-09 11:44:42,176] [108] [callback_connector] - INFO - Using default `ModelCheckpoint`. Consider installing `litmodels` package to enable `LitModelCheckpoint` for automatic upload to the Lightning model registry.\n",
      "[2025-06-09 11:44:42,210] [156] [setup] - INFO - GPU available: True (cuda), used: True\n",
      "[2025-06-09 11:44:42,212] [159] [setup] - INFO - TPU available: False, using: 0 TPU cores\n",
      "[2025-06-09 11:44:42,213] [169] [setup] - INFO - HPU available: False, using: 0 HPUs\n",
      "[2025-06-09 11:44:42,216] [166] [cuda] - INFO - You are using a CUDA device ('NVIDIA GeForce RTX 3050 Ti Laptop GPU') that has Tensor Cores. To properly utilize them, you should set `torch.set_float32_matmul_precision('medium' | 'high')` which will trade-off precision for performance. For more details, read https://pytorch.org/docs/stable/generated/torch.set_float32_matmul_precision.html#torch.set_float32_matmul_precision\n",
      "[2025-06-09 11:44:43,045] [61] [cuda] - INFO - LOCAL_RANK: 0 - CUDA_VISIBLE_DEVICES: [0]\n",
      "[2025-06-09 11:44:43,048] [104] [model_summary] - INFO - \n",
      "  | Name    | Type             | Params | Mode \n",
      "-----------------------------------------------------\n",
      "0 | model   | VGG              | 134 M  | train\n",
      "1 | loss_fn | CrossEntropyLoss | 0      | train\n",
      "-----------------------------------------------------\n",
      "119 M     Trainable params\n",
      "14.7 M    Non-trainable params\n",
      "134 M     Total params\n",
      "537.075   Total estimated model params size (MB)\n",
      "45        Modules in train mode\n",
      "0         Modules in eval mode\n",
      "Sanity Checking: |          | 0/? [00:00<?, ?it/s]"
     ]
    },
    {
     "name": "stderr",
     "output_type": "stream",
     "text": [
      "d:\\python-projects\\chest-cancer-classification\\venv\\Lib\\site-packages\\pytorch_lightning\\trainer\\connectors\\data_connector.py:425: The 'val_dataloader' does not have many workers which may be a bottleneck. Consider increasing the value of the `num_workers` argument` to `num_workers=11` in the `DataLoader` to improve performance.\n"
     ]
    },
    {
     "name": "stdout",
     "output_type": "stream",
     "text": [
      "                                                                           "
     ]
    },
    {
     "name": "stderr",
     "output_type": "stream",
     "text": [
      "d:\\python-projects\\chest-cancer-classification\\venv\\Lib\\site-packages\\pytorch_lightning\\trainer\\connectors\\data_connector.py:425: The 'train_dataloader' does not have many workers which may be a bottleneck. Consider increasing the value of the `num_workers` argument` to `num_workers=11` in the `DataLoader` to improve performance.\n"
     ]
    },
    {
     "name": "stdout",
     "output_type": "stream",
     "text": [
      "Epoch 4: 100%|██████████| 18/18 [00:04<00:00,  3.86it/s, v_num=cd8c, val_loss=0.901, val_accuracy=0.412, train_loss=0.877][2025-06-09 11:45:50,214] [191] [fit_loop] - INFO - `Trainer.fit` stopped: `max_epochs=5` reached.\n",
      "Epoch 4: 100%|██████████| 18/18 [00:11<00:00,  1.50it/s, v_num=cd8c, val_loss=0.901, val_accuracy=0.412, train_loss=0.877]\n"
     ]
    }
   ],
   "source": [
    "try:\n",
    "    config = ConfigurationManager()\n",
    "    training_config = config.get_training_config()\n",
    "    logs_config = config.get_log_config()\n",
    "    training = Training(config=training_config, logs= logs_config)\n",
    "    training.train()\n",
    "except Exception as e:\n",
    "    raise e"
   ]
  }
 ],
 "metadata": {
  "kernelspec": {
   "display_name": "Python 3",
   "language": "python",
   "name": "python3"
  },
  "language_info": {
   "codemirror_mode": {
    "name": "ipython",
    "version": 3
   },
   "file_extension": ".py",
   "mimetype": "text/x-python",
   "name": "python",
   "nbconvert_exporter": "python",
   "pygments_lexer": "ipython3",
   "version": "3.12.0"
  }
 },
 "nbformat": 4,
 "nbformat_minor": 2
}
