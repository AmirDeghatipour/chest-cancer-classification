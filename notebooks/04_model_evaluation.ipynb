{
 "cells": [
  {
   "cell_type": "code",
   "execution_count": 1,
   "metadata": {},
   "outputs": [
    {
     "data": {
      "text/plain": [
       "'d:\\\\python-projects\\\\chest-cancer-classification'"
      ]
     },
     "execution_count": 1,
     "metadata": {},
     "output_type": "execute_result"
    }
   ],
   "source": [
    "import os\n",
    "os.chdir(\"../\")\n",
    "%pwd"
   ]
  },
  {
   "cell_type": "code",
   "execution_count": 2,
   "metadata": {},
   "outputs": [],
   "source": [
    "from dataclasses import dataclass\n",
    "from pathlib import Path\n",
    "\n",
    "\n",
    "@dataclass\n",
    "class EvaluationConfig:\n",
    "    path_of_model: Path\n",
    "    training_data: Path\n",
    "    base_model_updated: Path\n",
    "    all_params: dict\n",
    "    params_image_size: list\n",
    "    params_batch_size: int"
   ]
  },
  {
   "cell_type": "code",
   "execution_count": 3,
   "metadata": {},
   "outputs": [],
   "source": [
    "from src.cnnClassifier.constants import CONFIG_FILE_PATH, PARAMS_FILE_PATH\n",
    "from src.cnnClassifier.utils.common import read_yaml, create_directories, save_json"
   ]
  },
  {
   "cell_type": "code",
   "execution_count": 4,
   "metadata": {},
   "outputs": [],
   "source": [
    "class ConfigurationManager:\n",
    "    def __init__(\n",
    "        self, \n",
    "        config_filepath = CONFIG_FILE_PATH,\n",
    "        params_filepath = PARAMS_FILE_PATH):\n",
    "        self.config = read_yaml(config_filepath)\n",
    "        self.params = read_yaml(params_filepath)\n",
    "        create_directories([Path(self.config.artifacts_root)])\n",
    "\n",
    "\n",
    "\n",
    "    def get_evaluation_config(self) -> EvaluationConfig:\n",
    "        eval_config = EvaluationConfig(\n",
    "            path_of_model=\"artifacts/training/model.pth\",\n",
    "            training_data=\"artifacts/data_ingestion/Chest-CT-Scan-data\",\n",
    "            base_model_updated=\"artifacts/prepare_base_model/base_model_updated.pth\",\n",
    "            all_params=self.params,\n",
    "            params_image_size=self.params.IMAGE_SIZE,\n",
    "            params_batch_size=self.params.BATCH_SIZE\n",
    "        )\n",
    "        return eval_config"
   ]
  },
  {
   "cell_type": "code",
   "execution_count": 5,
   "metadata": {},
   "outputs": [
    {
     "name": "stderr",
     "output_type": "stream",
     "text": [
      "d:\\python-projects\\chest-cancer-classification\\venv\\Lib\\site-packages\\tqdm\\auto.py:21: TqdmWarning: IProgress not found. Please update jupyter and ipywidgets. See https://ipywidgets.readthedocs.io/en/stable/user_install.html\n",
      "  from .autonotebook import tqdm as notebook_tqdm\n"
     ]
    }
   ],
   "source": [
    "import torch\n",
    "from pytorch_lightning import Trainer\n",
    "from src.cnnClassifier.components.prepare_base_model import MyImageClassifier\n",
    "from src.cnnClassifier.components.model_trainer import TrainingDataModule"
   ]
  },
  {
   "cell_type": "code",
   "execution_count": 6,
   "metadata": {},
   "outputs": [],
   "source": [
    "class Evaluation:\n",
    "    def __init__(self, config: EvaluationConfig):\n",
    "        self.config = config\n",
    "        self.model = None\n",
    "        self.datamodule = None\n",
    "\n",
    "    def load_model(self):\n",
    "        checkpoint = torch.load(self.config.path_of_model, map_location=\"cpu\", weights_only=False)\n",
    "        state_dict = checkpoint['state_dict']\n",
    "        base_model = torch.load(self.config.base_model_updated, map_location=\"cpu\", weights_only=False)\n",
    "        model = MyImageClassifier(model=base_model, config=self.config)\n",
    "        model.load_state_dict(state_dict)\n",
    "        self.model = model\n",
    "\n",
    "\n",
    "    def load_data(self):\n",
    "        self.datamodule = TrainingDataModule(self.config)\n",
    "        self.datamodule.setup(stage=\"validate\")  # or test\n",
    "\n",
    "    def evaluation(self):\n",
    "        self.load_model()\n",
    "        self.load_data()\n",
    "\n",
    "        trainer = Trainer(accelerator=\"cpu\", logger=False)\n",
    "        result = trainer.validate(self.model, datamodule=self.datamodule, verbose=True)\n",
    "        self.score = result[0]\n",
    "        \n",
    "        return result\n",
    "    \n",
    "    \n",
    "    def save_score(self):\n",
    "        scores = {\"loss\": self.score.get(\"val_loss\"),\"accuracy\": self.score.get(\"val_accuracy\")}\n",
    "        save_json(path=Path(\"scores.json\"), data=scores)"
   ]
  },
  {
   "cell_type": "code",
   "execution_count": 7,
   "metadata": {},
   "outputs": [
    {
     "name": "stdout",
     "output_type": "stream",
     "text": [
      "[2025-06-12 11:51:11,160] [14] [common] - INFO - YAML file loaded successfully: config\\config.yaml\n",
      "[2025-06-12 11:51:11,166] [14] [common] - INFO - YAML file loaded successfully: params.yaml\n",
      "[2025-06-12 11:51:11,170] [27] [common] - INFO - Created directory at: artifacts\n",
      "[2025-06-12 11:51:13,778] [108] [callback_connector] - INFO - Using default `ModelCheckpoint`. Consider installing `litmodels` package to enable `LitModelCheckpoint` for automatic upload to the Lightning model registry.\n",
      "[2025-06-12 11:51:13,932] [156] [setup] - INFO - GPU available: True (cuda), used: False\n",
      "[2025-06-12 11:51:13,937] [159] [setup] - INFO - TPU available: False, using: 0 TPU cores\n",
      "[2025-06-12 11:51:13,938] [169] [setup] - INFO - HPU available: False, using: 0 HPUs\n"
     ]
    },
    {
     "name": "stderr",
     "output_type": "stream",
     "text": [
      "d:\\python-projects\\chest-cancer-classification\\venv\\Lib\\site-packages\\pytorch_lightning\\trainer\\setup.py:177: GPU available but not used. You can set it by doing `Trainer(accelerator='gpu')`.\n"
     ]
    },
    {
     "name": "stdout",
     "output_type": "stream",
     "text": [
      "Validation DataLoader 0:  20%|██        | 1/5 [00:03<00:12,  0.31it/s]"
     ]
    },
    {
     "name": "stderr",
     "output_type": "stream",
     "text": [
      "d:\\python-projects\\chest-cancer-classification\\venv\\Lib\\site-packages\\pytorch_lightning\\core\\module.py:512: You called `self.log('val_loss', ..., logger=True)` but have no logger configured. You can enable one by doing `Trainer(logger=ALogger(...))`\n",
      "d:\\python-projects\\chest-cancer-classification\\venv\\Lib\\site-packages\\pytorch_lightning\\core\\module.py:512: You called `self.log('val_accuracy', ..., logger=True)` but have no logger configured. You can enable one by doing `Trainer(logger=ALogger(...))`\n"
     ]
    },
    {
     "name": "stdout",
     "output_type": "stream",
     "text": [
      "Validation DataLoader 0: 100%|██████████| 5/5 [00:12<00:00,  0.40it/s]\n"
     ]
    },
    {
     "data": {
      "text/html": [
       "<pre style=\"white-space:pre;overflow-x:auto;line-height:normal;font-family:Menlo,'DejaVu Sans Mono',consolas,'Courier New',monospace\">┏━━━━━━━━━━━━━━━━━━━━━━━━━━━┳━━━━━━━━━━━━━━━━━━━━━━━━━━━┓\n",
       "┃<span style=\"font-weight: bold\">      Validate metric      </span>┃<span style=\"font-weight: bold\">       DataLoader 0        </span>┃\n",
       "┡━━━━━━━━━━━━━━━━━━━━━━━━━━━╇━━━━━━━━━━━━━━━━━━━━━━━━━━━┩\n",
       "│<span style=\"color: #008080; text-decoration-color: #008080\">       val_accuracy        </span>│<span style=\"color: #800080; text-decoration-color: #800080\">    0.8823529481887817     </span>│\n",
       "│<span style=\"color: #008080; text-decoration-color: #008080\">         val_loss          </span>│<span style=\"color: #800080; text-decoration-color: #800080\">    0.4309086501598358     </span>│\n",
       "└───────────────────────────┴───────────────────────────┘\n",
       "</pre>\n"
      ],
      "text/plain": [
       "┏━━━━━━━━━━━━━━━━━━━━━━━━━━━┳━━━━━━━━━━━━━━━━━━━━━━━━━━━┓\n",
       "┃\u001b[1m \u001b[0m\u001b[1m     Validate metric     \u001b[0m\u001b[1m \u001b[0m┃\u001b[1m \u001b[0m\u001b[1m      DataLoader 0       \u001b[0m\u001b[1m \u001b[0m┃\n",
       "┡━━━━━━━━━━━━━━━━━━━━━━━━━━━╇━━━━━━━━━━━━━━━━━━━━━━━━━━━┩\n",
       "│\u001b[36m \u001b[0m\u001b[36m      val_accuracy       \u001b[0m\u001b[36m \u001b[0m│\u001b[35m \u001b[0m\u001b[35m   0.8823529481887817    \u001b[0m\u001b[35m \u001b[0m│\n",
       "│\u001b[36m \u001b[0m\u001b[36m        val_loss         \u001b[0m\u001b[36m \u001b[0m│\u001b[35m \u001b[0m\u001b[35m   0.4309086501598358    \u001b[0m\u001b[35m \u001b[0m│\n",
       "└───────────────────────────┴───────────────────────────┘\n"
      ]
     },
     "metadata": {},
     "output_type": "display_data"
    },
    {
     "name": "stdout",
     "output_type": "stream",
     "text": [
      "[2025-06-12 11:51:42,150] [41] [common] - INFO - json file saved at: scores.json\n"
     ]
    }
   ],
   "source": [
    "try:\n",
    "    config = ConfigurationManager()\n",
    "    eval_config = config.get_evaluation_config()\n",
    "    evaluation = Evaluation(eval_config)\n",
    "    evaluation.evaluation()\n",
    "    evaluation.save_score()\n",
    "except Exception as e:\n",
    "   raise e"
   ]
  },
  {
   "cell_type": "markdown",
   "metadata": {},
   "source": [
    "# Integrated with MLflow and Tensorboard"
   ]
  },
  {
   "cell_type": "code",
   "execution_count": 8,
   "metadata": {},
   "outputs": [],
   "source": [
    "from src.cnnClassifier.entity.config_entity import LogConfig\n",
    "from src.cnnClassifier.config.configuration import ConfigurationManager\n",
    "from pytorch_lightning.loggers import MLFlowLogger, TensorBoardLogger"
   ]
  },
  {
   "cell_type": "code",
   "execution_count": 9,
   "metadata": {},
   "outputs": [],
   "source": [
    "class Evaluation:\n",
    "    def __init__(self, config: EvaluationConfig, logs:LogConfig):\n",
    "        self.config = config\n",
    "        self.logs = logs\n",
    "        self.model = None\n",
    "        self.datamodule = None\n",
    "        self.tb_logger = TensorBoardLogger(str(self.logs.tensorboard / \"evaluation\"))\n",
    "        self.mlflow_logger = MLFlowLogger(\n",
    "            experiment_name=\"ChestCancerClassification_Evaluation\",\n",
    "            tracking_uri=str(self.logs.mlflow)\n",
    "        )\n",
    "\n",
    "    def load_model(self):\n",
    "        checkpoint = torch.load(self.config.path_of_model, map_location=\"cpu\", weights_only=False)\n",
    "        state_dict = checkpoint['state_dict']\n",
    "        base_model = torch.load(self.config.base_model_updated, map_location=\"cpu\", weights_only=False)\n",
    "        model = MyImageClassifier(model=base_model, config=self.config)\n",
    "        model.load_state_dict(state_dict)\n",
    "        self.model = model\n",
    "\n",
    "\n",
    "    def load_data(self):\n",
    "        self.datamodule = TrainingDataModule(self.config)\n",
    "        self.datamodule.setup(stage=\"validate\")  # or test\n",
    "\n",
    "    def evaluation(self):\n",
    "        self.load_model()\n",
    "        self.load_data()\n",
    "\n",
    "        trainer = Trainer(accelerator=\"cpu\", logger=[self.tb_logger, self.mlflow_logger])\n",
    "        result = trainer.validate(self.model, datamodule=self.datamodule, verbose=True)\n",
    "        self.score = result[0]\n",
    "        \n",
    "        return result\n",
    "    \n",
    "    \n",
    "    def save_score(self):\n",
    "        scores = {\"loss\": self.score.get(\"val_loss\"),\"accuracy\": self.score.get(\"val_accuracy\")}\n",
    "        save_json(path=Path(\"scores.json\"), data=scores)"
   ]
  },
  {
   "cell_type": "code",
   "execution_count": 10,
   "metadata": {},
   "outputs": [
    {
     "name": "stdout",
     "output_type": "stream",
     "text": [
      "[2025-06-12 11:51:42,276] [14] [common] - INFO - YAML file loaded successfully: config\\config.yaml\n",
      "[2025-06-12 11:51:42,287] [14] [common] - INFO - YAML file loaded successfully: params.yaml\n",
      "[2025-06-12 11:51:42,293] [27] [common] - INFO - Created directory at: artifacts\n",
      "[2025-06-12 11:51:42,302] [27] [common] - INFO - Created directory at: artifacts\\logs\n",
      "[2025-06-12 11:51:45,387] [108] [callback_connector] - INFO - Using default `ModelCheckpoint`. Consider installing `litmodels` package to enable `LitModelCheckpoint` for automatic upload to the Lightning model registry.\n",
      "[2025-06-12 11:51:45,438] [156] [setup] - INFO - GPU available: True (cuda), used: False\n",
      "[2025-06-12 11:51:45,440] [159] [setup] - INFO - TPU available: False, using: 0 TPU cores\n",
      "[2025-06-12 11:51:45,441] [169] [setup] - INFO - HPU available: False, using: 0 HPUs\n",
      "Validation DataLoader 0: 100%|██████████| 5/5 [00:11<00:00,  0.43it/s]\n"
     ]
    },
    {
     "data": {
      "text/html": [
       "<pre style=\"white-space:pre;overflow-x:auto;line-height:normal;font-family:Menlo,'DejaVu Sans Mono',consolas,'Courier New',monospace\">┏━━━━━━━━━━━━━━━━━━━━━━━━━━━┳━━━━━━━━━━━━━━━━━━━━━━━━━━━┓\n",
       "┃<span style=\"font-weight: bold\">      Validate metric      </span>┃<span style=\"font-weight: bold\">       DataLoader 0        </span>┃\n",
       "┡━━━━━━━━━━━━━━━━━━━━━━━━━━━╇━━━━━━━━━━━━━━━━━━━━━━━━━━━┩\n",
       "│<span style=\"color: #008080; text-decoration-color: #008080\">       val_accuracy        </span>│<span style=\"color: #800080; text-decoration-color: #800080\">    0.8823529481887817     </span>│\n",
       "│<span style=\"color: #008080; text-decoration-color: #008080\">         val_loss          </span>│<span style=\"color: #800080; text-decoration-color: #800080\">    0.4309086501598358     </span>│\n",
       "└───────────────────────────┴───────────────────────────┘\n",
       "</pre>\n"
      ],
      "text/plain": [
       "┏━━━━━━━━━━━━━━━━━━━━━━━━━━━┳━━━━━━━━━━━━━━━━━━━━━━━━━━━┓\n",
       "┃\u001b[1m \u001b[0m\u001b[1m     Validate metric     \u001b[0m\u001b[1m \u001b[0m┃\u001b[1m \u001b[0m\u001b[1m      DataLoader 0       \u001b[0m\u001b[1m \u001b[0m┃\n",
       "┡━━━━━━━━━━━━━━━━━━━━━━━━━━━╇━━━━━━━━━━━━━━━━━━━━━━━━━━━┩\n",
       "│\u001b[36m \u001b[0m\u001b[36m      val_accuracy       \u001b[0m\u001b[36m \u001b[0m│\u001b[35m \u001b[0m\u001b[35m   0.8823529481887817    \u001b[0m\u001b[35m \u001b[0m│\n",
       "│\u001b[36m \u001b[0m\u001b[36m        val_loss         \u001b[0m\u001b[36m \u001b[0m│\u001b[35m \u001b[0m\u001b[35m   0.4309086501598358    \u001b[0m\u001b[35m \u001b[0m│\n",
       "└───────────────────────────┴───────────────────────────┘\n"
      ]
     },
     "metadata": {},
     "output_type": "display_data"
    },
    {
     "name": "stdout",
     "output_type": "stream",
     "text": [
      "[2025-06-12 11:52:10,586] [41] [common] - INFO - json file saved at: scores.json\n"
     ]
    }
   ],
   "source": [
    "try:\n",
    "    config = ConfigurationManager()\n",
    "    eval_config = config.get_evaluation_config()\n",
    "    logs_config = config.get_log_config()\n",
    "    evaluation = Evaluation(eval_config, logs_config)\n",
    "    evaluation.evaluation()\n",
    "    evaluation.save_score()\n",
    "except Exception as e:\n",
    "   raise e"
   ]
  }
 ],
 "metadata": {
  "kernelspec": {
   "display_name": "Python 3",
   "language": "python",
   "name": "python3"
  },
  "language_info": {
   "codemirror_mode": {
    "name": "ipython",
    "version": 3
   },
   "file_extension": ".py",
   "mimetype": "text/x-python",
   "name": "python",
   "nbconvert_exporter": "python",
   "pygments_lexer": "ipython3",
   "version": "3.12.0"
  }
 },
 "nbformat": 4,
 "nbformat_minor": 2
}
